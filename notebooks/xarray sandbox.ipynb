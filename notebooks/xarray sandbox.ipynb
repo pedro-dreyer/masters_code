{
 "cells": [
  {
   "cell_type": "markdown",
   "metadata": {},
   "source": [
    "# xarray sandbox"
   ]
  },
  {
   "cell_type": "code",
   "execution_count": 2,
   "metadata": {},
   "outputs": [],
   "source": [
    "import xarray as xr\n",
    "import numpy as np\n",
    "import pandas as pd\n",
    "import matplotlib.pyplot as plt"
   ]
  },
  {
   "cell_type": "code",
   "execution_count": 174,
   "metadata": {},
   "outputs": [
    {
     "data": {
      "text/plain": [
       "<xarray.Dataset>\n",
       "Dimensions:    (epoch: 10, execution: 5)\n",
       "Coordinates:\n",
       "  * epoch      (epoch) int64 1 2 3 4 5 6 7 8 9 10\n",
       "  * execution  (execution) int64 1 2 3 4 5\n",
       "Data variables:\n",
       "    loss       (epoch, execution) float64 -0.04847 -1.292 1.037 ... 0.4237 2.149\n",
       "    acc        (epoch, execution) float64 -0.6515 -0.231 ... -0.2281 1.592"
      ]
     },
     "execution_count": 174,
     "metadata": {},
     "output_type": "execute_result"
    }
   ],
   "source": [
    "# creating a DataSet\n",
    "\n",
    "N_EPOCHS = 10\n",
    "N_EXECUTIONS = 5\n",
    "\n",
    "loss = np.random.randn(N_EPOCHS, N_EXECUTIONS)\n",
    "acc = np.random.randn(N_EPOCHS, N_EXECUTIONS)\n",
    "\n",
    "# Creating first the d\n",
    "loss_array = xr.DataArray(loss, \n",
    "                          dims=('epoch', 'execution'), \n",
    "                          coords={'epoch': range(1, N_EPOCHS + 1),\n",
    "                                  'execution': range(1, N_EXECUTIONS + 1)})\n",
    "\n",
    "acc_array = xr.DataArray(acc, \n",
    "                         dims=('epoch', 'execution'), \n",
    "                         coords={'epoch': range(1, N_EPOCHS + 1),\n",
    "                                 'execution': range(1, N_EXECUTIONS + 1)})\n",
    "\n",
    "ds = xr.Dataset({'loss': loss_array, 'acc': acc_array})\n",
    "\n",
    "ds = xr.Dataset({'loss': (['epoch', 'execution'], loss),\n",
    "                 'acc': (['epoch', 'execution'], acc)},\n",
    "               coords={'epoch': range(1, N_EPOCHS + 1),\n",
    "                       'execution': range(1, N_EXECUTIONS + 1)})\n",
    "ds"
   ]
  },
  {
   "cell_type": "code",
   "execution_count": 170,
   "metadata": {},
   "outputs": [
    {
     "data": {
      "text/plain": [
       "<xarray.Dataset>\n",
       "Dimensions:    (epoch: 10, execution: 5)\n",
       "Coordinates:\n",
       "  * execution  (execution) int64 1 2 3 4 5\n",
       "Dimensions without coordinates: epoch\n",
       "Data variables:\n",
       "    loss       (epoch, execution) float64 -0.9607 -1.046 ... 0.3628 -0.6589\n",
       "    acc        (epoch, execution) float64 0.3625 0.8584 ... -0.2857 0.03906"
      ]
     },
     "execution_count": 170,
     "metadata": {},
     "output_type": "execute_result"
    }
   ],
   "source": [
    "# removing a coordinate\n",
    "del ds.coords['epoch']\n",
    "ds"
   ]
  },
  {
   "cell_type": "code",
   "execution_count": 172,
   "metadata": {},
   "outputs": [
    {
     "data": {
      "text/plain": [
       "<xarray.Dataset>\n",
       "Dimensions:    (epoch: 10, execution: 5)\n",
       "Coordinates:\n",
       "  * execution  (execution) int64 1 2 3 4 5\n",
       "  * epoch      (epoch) int64 1 2 3 4 5 6 7 8 9 10\n",
       "Data variables:\n",
       "    loss       (epoch, execution) float64 -0.9607 -1.046 ... 0.3628 -0.6589\n",
       "    acc        (epoch, execution) float64 0.3625 0.8584 ... -0.2857 0.03906"
      ]
     },
     "execution_count": 172,
     "metadata": {},
     "output_type": "execute_result"
    }
   ],
   "source": [
    "# adding a coordinate\n",
    "ds.coords['epoch'] = range(1, N_EPOCHS + 1)\n",
    "ds"
   ]
  },
  {
   "cell_type": "code",
   "execution_count": 181,
   "metadata": {},
   "outputs": [
    {
     "data": {
      "text/plain": [
       "<xarray.Dataset>\n",
       "Dimensions:    (epoch: 7, execution: 5)\n",
       "Coordinates:\n",
       "  * epoch      (epoch) int64 1 2 3 4 5 6 7\n",
       "  * execution  (execution) int64 1 2 3 4 5\n",
       "Data variables:\n",
       "    loss       (epoch, execution) float64 -0.04847 -1.292 ... 0.1013 -1.654\n",
       "    acc        (epoch, execution) float64 -0.6515 -0.231 ... -1.733 0.5724"
      ]
     },
     "execution_count": 181,
     "metadata": {},
     "output_type": "execute_result"
    }
   ],
   "source": [
    "# drop some values from a dimension\n",
    "ds.drop(range(10,7,-1), dim='epoch')"
   ]
  },
  {
   "cell_type": "code",
   "execution_count": 184,
   "metadata": {},
   "outputs": [
    {
     "data": {
      "text/plain": [
       "<xarray.Dataset>\n",
       "Dimensions:  (epoch: 10)\n",
       "Coordinates:\n",
       "  * epoch    (epoch) int64 1 2 3 4 5 6 7 8 9 10\n",
       "Data variables:\n",
       "    loss     (epoch) float64 0.4369 0.07907 -0.1033 ... -0.03968 0.07503 0.286\n",
       "    acc      (epoch) float64 -0.204 0.04171 -0.8956 ... 0.6096 -0.3395 0.399"
      ]
     },
     "execution_count": 184,
     "metadata": {},
     "output_type": "execute_result"
    }
   ],
   "source": [
    "# calculate a mean over a dimension (other:max, min, std, argmax, argmin)\n",
    "ds.mean(dim='execution')"
   ]
  },
  {
   "cell_type": "code",
   "execution_count": 198,
   "metadata": {},
   "outputs": [
    {
     "data": {
      "text/plain": [
       "array([[-0.04846689, -1.29182251,  1.03652958,  1.70417559,  0.78409497],\n",
       "       [-1.35965872,  0.55839635,  0.30891169, -0.44549729,  1.3332192 ],\n",
       "       [ 0.07011795, -0.40287164, -0.43455689, -0.48114954,  0.73196795],\n",
       "       [-0.46814131, -0.72705042,  0.86179899,  0.58091809,  0.46228318],\n",
       "       [ 0.38375277, -0.89923157, -1.7073643 ,  1.02657029,  1.81444068],\n",
       "       [-0.33947497, -1.05026245, -0.23983039, -0.76000465,  0.88427197],\n",
       "       [-0.00777243, -0.15252755,  0.07604388,  0.10127745, -1.65370728],\n",
       "       [ 0.41579521,  1.45719707, -0.89762926,  0.52994197, -1.70371207],\n",
       "       [ 0.45519688, -1.99452217,  1.46305222, -0.08660514,  0.53805169],\n",
       "       [-0.55170033, -0.95535799,  0.36463419,  0.42367091,  2.14873152]])"
      ]
     },
     "execution_count": 198,
     "metadata": {},
     "output_type": "execute_result"
    }
   ],
   "source": [
    "# get DataArray numpy array\n",
    "da = ds['loss']\n",
    "da.values"
   ]
  },
  {
   "cell_type": "code",
   "execution_count": 203,
   "metadata": {},
   "outputs": [
    {
     "ename": "TypeError",
     "evalue": "cannot use a Dataset as an indexer",
     "output_type": "error",
     "traceback": [
      "\u001b[0;31m---------------------------------------------------------------------------\u001b[0m",
      "\u001b[0;31mTypeError\u001b[0m                                 Traceback (most recent call last)",
      "\u001b[0;32m<ipython-input-203-c66b12e981b4>\u001b[0m in \u001b[0;36m<module>\u001b[0;34m\u001b[0m\n\u001b[1;32m      1\u001b[0m \u001b[0mmean_da\u001b[0m \u001b[0;34m=\u001b[0m \u001b[0mds\u001b[0m\u001b[0;34m.\u001b[0m\u001b[0mmean\u001b[0m\u001b[0;34m(\u001b[0m\u001b[0mdim\u001b[0m\u001b[0;34m=\u001b[0m\u001b[0;34m'execution'\u001b[0m\u001b[0;34m)\u001b[0m\u001b[0;34m\u001b[0m\u001b[0;34m\u001b[0m\u001b[0m\n\u001b[1;32m      2\u001b[0m \u001b[0mmax_epoch\u001b[0m \u001b[0;34m=\u001b[0m \u001b[0mmean_da\u001b[0m\u001b[0;34m.\u001b[0m\u001b[0margmax\u001b[0m\u001b[0;34m(\u001b[0m\u001b[0mdim\u001b[0m\u001b[0;34m=\u001b[0m\u001b[0;34m'epoch'\u001b[0m\u001b[0;34m)\u001b[0m\u001b[0;34m\u001b[0m\u001b[0;34m\u001b[0m\u001b[0m\n\u001b[0;32m----> 3\u001b[0;31m \u001b[0mda\u001b[0m\u001b[0;34m.\u001b[0m\u001b[0misel\u001b[0m\u001b[0;34m(\u001b[0m\u001b[0mepoch\u001b[0m\u001b[0;34m=\u001b[0m\u001b[0mmax_epoch\u001b[0m\u001b[0;34m)\u001b[0m\u001b[0;34m\u001b[0m\u001b[0;34m\u001b[0m\u001b[0m\n\u001b[0m",
      "\u001b[0;32m~/anaconda3/envs/Masters/lib/python3.7/site-packages/xarray/core/dataarray.py\u001b[0m in \u001b[0;36misel\u001b[0;34m(self, indexers, drop, **indexers_kwargs)\u001b[0m\n\u001b[1;32m    825\u001b[0m         \"\"\"\n\u001b[1;32m    826\u001b[0m         \u001b[0mindexers\u001b[0m \u001b[0;34m=\u001b[0m \u001b[0meither_dict_or_kwargs\u001b[0m\u001b[0;34m(\u001b[0m\u001b[0mindexers\u001b[0m\u001b[0;34m,\u001b[0m \u001b[0mindexers_kwargs\u001b[0m\u001b[0;34m,\u001b[0m \u001b[0;34m'isel'\u001b[0m\u001b[0;34m)\u001b[0m\u001b[0;34m\u001b[0m\u001b[0;34m\u001b[0m\u001b[0m\n\u001b[0;32m--> 827\u001b[0;31m         \u001b[0mds\u001b[0m \u001b[0;34m=\u001b[0m \u001b[0mself\u001b[0m\u001b[0;34m.\u001b[0m\u001b[0m_to_temp_dataset\u001b[0m\u001b[0;34m(\u001b[0m\u001b[0;34m)\u001b[0m\u001b[0;34m.\u001b[0m\u001b[0misel\u001b[0m\u001b[0;34m(\u001b[0m\u001b[0mdrop\u001b[0m\u001b[0;34m=\u001b[0m\u001b[0mdrop\u001b[0m\u001b[0;34m,\u001b[0m \u001b[0mindexers\u001b[0m\u001b[0;34m=\u001b[0m\u001b[0mindexers\u001b[0m\u001b[0;34m)\u001b[0m\u001b[0;34m\u001b[0m\u001b[0;34m\u001b[0m\u001b[0m\n\u001b[0m\u001b[1;32m    828\u001b[0m         \u001b[0;32mreturn\u001b[0m \u001b[0mself\u001b[0m\u001b[0;34m.\u001b[0m\u001b[0m_from_temp_dataset\u001b[0m\u001b[0;34m(\u001b[0m\u001b[0mds\u001b[0m\u001b[0;34m)\u001b[0m\u001b[0;34m\u001b[0m\u001b[0;34m\u001b[0m\u001b[0m\n\u001b[1;32m    829\u001b[0m \u001b[0;34m\u001b[0m\u001b[0m\n",
      "\u001b[0;32m~/anaconda3/envs/Masters/lib/python3.7/site-packages/xarray/core/dataset.py\u001b[0m in \u001b[0;36misel\u001b[0;34m(self, indexers, drop, **indexers_kwargs)\u001b[0m\n\u001b[1;32m   1629\u001b[0m         \u001b[0mindexers\u001b[0m \u001b[0;34m=\u001b[0m \u001b[0meither_dict_or_kwargs\u001b[0m\u001b[0;34m(\u001b[0m\u001b[0mindexers\u001b[0m\u001b[0;34m,\u001b[0m \u001b[0mindexers_kwargs\u001b[0m\u001b[0;34m,\u001b[0m \u001b[0;34m'isel'\u001b[0m\u001b[0;34m)\u001b[0m\u001b[0;34m\u001b[0m\u001b[0;34m\u001b[0m\u001b[0m\n\u001b[1;32m   1630\u001b[0m \u001b[0;34m\u001b[0m\u001b[0m\n\u001b[0;32m-> 1631\u001b[0;31m         \u001b[0mindexers_list\u001b[0m \u001b[0;34m=\u001b[0m \u001b[0mself\u001b[0m\u001b[0;34m.\u001b[0m\u001b[0m_validate_indexers\u001b[0m\u001b[0;34m(\u001b[0m\u001b[0mindexers\u001b[0m\u001b[0;34m)\u001b[0m\u001b[0;34m\u001b[0m\u001b[0;34m\u001b[0m\u001b[0m\n\u001b[0m\u001b[1;32m   1632\u001b[0m \u001b[0;34m\u001b[0m\u001b[0m\n\u001b[1;32m   1633\u001b[0m         \u001b[0mvariables\u001b[0m \u001b[0;34m=\u001b[0m \u001b[0mOrderedDict\u001b[0m\u001b[0;34m(\u001b[0m\u001b[0;34m)\u001b[0m\u001b[0;34m\u001b[0m\u001b[0;34m\u001b[0m\u001b[0m\n",
      "\u001b[0;32m~/anaconda3/envs/Masters/lib/python3.7/site-packages/xarray/core/dataset.py\u001b[0m in \u001b[0;36m_validate_indexers\u001b[0;34m(self, indexers)\u001b[0m\n\u001b[1;32m   1516\u001b[0m                 \u001b[0mv\u001b[0m \u001b[0;34m=\u001b[0m \u001b[0mas_variable\u001b[0m\u001b[0;34m(\u001b[0m\u001b[0mv\u001b[0m\u001b[0;34m)\u001b[0m\u001b[0;34m\u001b[0m\u001b[0;34m\u001b[0m\u001b[0m\n\u001b[1;32m   1517\u001b[0m             \u001b[0;32melif\u001b[0m \u001b[0misinstance\u001b[0m\u001b[0;34m(\u001b[0m\u001b[0mv\u001b[0m\u001b[0;34m,\u001b[0m \u001b[0mDataset\u001b[0m\u001b[0;34m)\u001b[0m\u001b[0;34m:\u001b[0m\u001b[0;34m\u001b[0m\u001b[0;34m\u001b[0m\u001b[0m\n\u001b[0;32m-> 1518\u001b[0;31m                 \u001b[0;32mraise\u001b[0m \u001b[0mTypeError\u001b[0m\u001b[0;34m(\u001b[0m\u001b[0;34m'cannot use a Dataset as an indexer'\u001b[0m\u001b[0;34m)\u001b[0m\u001b[0;34m\u001b[0m\u001b[0;34m\u001b[0m\u001b[0m\n\u001b[0m\u001b[1;32m   1519\u001b[0m             \u001b[0;32melse\u001b[0m\u001b[0;34m:\u001b[0m\u001b[0;34m\u001b[0m\u001b[0;34m\u001b[0m\u001b[0m\n\u001b[1;32m   1520\u001b[0m                 \u001b[0mv\u001b[0m \u001b[0;34m=\u001b[0m \u001b[0mnp\u001b[0m\u001b[0;34m.\u001b[0m\u001b[0masarray\u001b[0m\u001b[0;34m(\u001b[0m\u001b[0mv\u001b[0m\u001b[0;34m)\u001b[0m\u001b[0;34m\u001b[0m\u001b[0;34m\u001b[0m\u001b[0m\n",
      "\u001b[0;31mTypeError\u001b[0m: cannot use a Dataset as an indexer"
     ]
    }
   ],
   "source": [
    "mean_da = ds.mean(dim='execution')\n",
    "max_epoch = mean_da.argmax(dim='epoch')\n",
    "da.isel(epoch=max_epoch)"
   ]
  },
  {
   "cell_type": "code",
   "execution_count": 115,
   "metadata": {},
   "outputs": [
    {
     "data": {
      "text/plain": [
       "<xarray.DataArray 'acc' (epoch: 10, execution: 5)>\n",
       "array([[ True, False,  True,  True,  True],\n",
       "       [False, False,  True, False, False],\n",
       "       [False,  True, False, False, False],\n",
       "       [False, False, False, False, False],\n",
       "       [False, False,  True, False,  True],\n",
       "       [False,  True, False,  True, False],\n",
       "       [False,  True, False, False, False],\n",
       "       [False, False,  True, False, False],\n",
       "       [False, False, False, False,  True],\n",
       "       [ True, False, False, False, False]])\n",
       "Coordinates:\n",
       "  * execution  (execution) int64 1 2 3 4 5\n",
       "  * epoch      (epoch) int64 1 2 3 4 5 6 7 8 9 10"
      ]
     },
     "execution_count": 115,
     "metadata": {},
     "output_type": "execute_result"
    }
   ],
   "source": [
    "a = ds > 0.5\n",
    "a['acc']"
   ]
  },
  {
   "cell_type": "code",
   "execution_count": 87,
   "metadata": {},
   "outputs": [
    {
     "data": {
      "text/plain": [
       "<xarray.DataArray 'acc' (epoch: 10, execution: 5)>\n",
       "array([[ 1.126653, -0.7535  , -0.355075,  1.913565,  1.173138],\n",
       "       [ 0.695237,  1.081052, -0.957118, -1.137464,  0.546375],\n",
       "       [-1.081425,  1.272038, -0.382493,  0.631412,  0.512766],\n",
       "       [-0.025001, -0.181577,  2.283338,  0.158237, -1.536429],\n",
       "       [ 1.661175, -0.157278,  0.208936, -0.620396, -1.217017],\n",
       "       [ 0.095339,  0.609729, -1.130088, -1.865286, -0.01064 ],\n",
       "       [-2.452466, -1.701488, -1.146147, -0.024833, -0.497993],\n",
       "       [ 0.375222,  0.299981, -0.733491, -0.425897, -0.743248],\n",
       "       [-0.248358, -0.26233 ,  1.000242, -0.497756, -0.667929],\n",
       "       [ 1.872524,  1.524778,  0.558469,  0.314695,  0.114059]])\n",
       "Coordinates:\n",
       "  * epoch      (epoch) int64 1 2 3 4 5 6 7 8 9 10\n",
       "  * execution  (execution) int64 1 2 3 4 5"
      ]
     },
     "execution_count": 87,
     "metadata": {},
     "output_type": "execute_result"
    }
   ],
   "source": [
    "ds.acc"
   ]
  },
  {
   "cell_type": "code",
   "execution_count": 102,
   "metadata": {},
   "outputs": [
    {
     "name": "stdout",
     "output_type": "stream",
     "text": [
      "<xarray.DataArray 'acc' (epoch: 3)>\n",
      "array([ 1.126653,  0.695237, -1.081425])\n",
      "Coordinates:\n",
      "  * epoch      (epoch) int64 1 2 3\n",
      "    execution  int64 1\n",
      "<xarray.DataArray 'acc' (epoch: 3)>\n",
      "array([ 1.126653,  0.695237, -1.081425])\n",
      "Coordinates:\n",
      "  * epoch      (epoch) int64 1 2 3\n",
      "    execution  int64 1\n"
     ]
    }
   ],
   "source": [
    "da = ds['acc']\n",
    "print(da.sel(epoch=[1,2,3], execution=1))\n",
    "print(da.loc[1:3,1])"
   ]
  },
  {
   "cell_type": "code",
   "execution_count": 51,
   "metadata": {},
   "outputs": [],
   "source": [
    "ds['loss'] = (['epoch', 'execution'], loss)"
   ]
  },
  {
   "cell_type": "code",
   "execution_count": 78,
   "metadata": {},
   "outputs": [
    {
     "data": {
      "text/plain": [
       "<xarray.Dataset>\n",
       "Dimensions:    (epoch: 10, execution: 5)\n",
       "Coordinates:\n",
       "  * epoch      (epoch) int64 1 2 3 4 5 6 7 8 9 10\n",
       "  * execution  (execution) int64 1 2 3 4 5\n",
       "    test       (epoch, execution) float64 1.038 -0.2443 ... -0.3422 -0.08301\n",
       "Data variables:\n",
       "    loss       (epoch, execution) float64 0.3363 -1.467 ... -0.4873 -1.183\n",
       "    acc        (epoch, execution) float64 1.038 -0.2443 ... -0.3422 -0.08301"
      ]
     },
     "execution_count": 78,
     "metadata": {},
     "output_type": "execute_result"
    }
   ],
   "source": [
    "ds.coords['test'] = (('epoch','execution', 'dataset', 'architecture', 'id'), acc)\n",
    "ds"
   ]
  },
  {
   "cell_type": "code",
   "execution_count": 70,
   "metadata": {},
   "outputs": [
    {
     "name": "stdout",
     "output_type": "stream",
     "text": [
      "loss <xarray.DataArray 'loss' (epoch: 10, execution: 5)>\n",
      "array([[ 0.336255, -1.466941, -0.175837,  0.426458,  0.406906],\n",
      "       [-0.106626,  0.777929,  0.966031,  0.005305,  1.396248],\n",
      "       [ 0.290197,  0.196068,  1.648602, -0.312114, -0.904905],\n",
      "       [-1.340316, -2.025447,  0.991599, -1.209522, -0.022976],\n",
      "       [-1.185576,  0.51183 ,  1.428277, -0.435609,  0.419525],\n",
      "       [-1.090769, -0.434373,  0.815173,  1.360907, -0.872371],\n",
      "       [-1.061178,  0.858986,  0.400999, -0.988071,  0.61892 ],\n",
      "       [-0.00243 , -0.254511,  0.131093,  0.047865,  0.858334],\n",
      "       [ 0.093301,  0.125958,  1.276391, -0.40337 , -0.913546],\n",
      "       [ 1.010723,  0.43181 ,  0.108414, -0.487322, -1.182704]])\n",
      "Coordinates:\n",
      "  * epoch      (epoch) int64 1 2 3 4 5 6 7 8 9 10\n",
      "  * execution  (execution) int64 1 2 3 4 5\n",
      "acc <xarray.DataArray 'acc' (epoch: 10, execution: 5)>\n",
      "array([[ 1.037741, -0.244262, -0.43176 ,  0.839744, -0.031125],\n",
      "       [ 1.983816,  0.108492,  0.549378,  1.456855, -0.594062],\n",
      "       [ 1.231083,  0.37187 , -0.536591,  0.85367 ,  0.811223],\n",
      "       [ 0.097267, -0.620318, -0.168273, -0.751722, -0.012621],\n",
      "       [ 0.246988,  0.358871, -0.429914, -0.231509,  0.83307 ],\n",
      "       [-0.974324,  0.49967 , -2.169508, -0.885365,  0.424114],\n",
      "       [ 0.83913 ,  0.319588,  1.12929 ,  1.054983,  0.223154],\n",
      "       [-1.0866  , -0.680027, -1.525537,  0.664675,  0.028862],\n",
      "       [-1.404488, -0.76182 , -2.440375, -1.009609,  0.596591],\n",
      "       [-1.450272, -0.972129, -1.272942, -0.342176, -0.08301 ]])\n",
      "Coordinates:\n",
      "  * epoch      (epoch) int64 1 2 3 4 5 6 7 8 9 10\n",
      "  * execution  (execution) int64 1 2 3 4 5\n"
     ]
    }
   ],
   "source": [
    "for a,b in ds.items():\n",
    "    print(a,b)"
   ]
  },
  {
   "cell_type": "code",
   "execution_count": null,
   "metadata": {},
   "outputs": [],
   "source": []
  },
  {
   "cell_type": "code",
   "execution_count": 121,
   "metadata": {},
   "outputs": [
    {
     "data": {
      "text/plain": [
       "<xarray.DataArray (x: 3, y: 4)>\n",
       "array([[ 0,  1,  2,  3],\n",
       "       [ 4,  5,  6,  7],\n",
       "       [ 8,  9, 10, 11]])\n",
       "Coordinates:\n",
       "  * x        (x) int64 0 1 2\n",
       "  * y        (y) <U1 'a' 'b' 'c' 'd'"
      ]
     },
     "execution_count": 121,
     "metadata": {},
     "output_type": "execute_result"
    }
   ],
   "source": [
    "da = xr.DataArray(np.arange(12).reshape((3, 4)), dims=['x', 'y'],\n",
    "                 coords={'x': [0, 1, 2], 'y': ['a', 'b', 'c', 'd']})\n",
    "da"
   ]
  },
  {
   "cell_type": "code",
   "execution_count": 125,
   "metadata": {},
   "outputs": [
    {
     "data": {
      "text/plain": [
       "<xarray.DataArray (x: 2, y: 2)>\n",
       "array([[1, 1],\n",
       "       [5, 5]])\n",
       "Coordinates:\n",
       "  * x        (x) int64 0 1\n",
       "  * y        (y) <U1 'b' 'b'"
      ]
     },
     "execution_count": 125,
     "metadata": {},
     "output_type": "execute_result"
    }
   ],
   "source": [
    " da[[0,1], [1,1]]"
   ]
  },
  {
   "cell_type": "code",
   "execution_count": 127,
   "metadata": {},
   "outputs": [],
   "source": [
    "ds = xr.tutorial.open_dataset('air_temperature')"
   ]
  },
  {
   "cell_type": "code",
   "execution_count": 128,
   "metadata": {},
   "outputs": [
    {
     "data": {
      "text/plain": [
       "<xarray.Dataset>\n",
       "Dimensions:  (lat: 25, lon: 53, time: 2920)\n",
       "Coordinates:\n",
       "  * lat      (lat) float32 75.0 72.5 70.0 67.5 65.0 ... 25.0 22.5 20.0 17.5 15.0\n",
       "  * lon      (lon) float32 200.0 202.5 205.0 207.5 ... 322.5 325.0 327.5 330.0\n",
       "  * time     (time) datetime64[ns] 2013-01-01 ... 2014-12-31T18:00:00\n",
       "Data variables:\n",
       "    air      (time, lat, lon) float32 ...\n",
       "Attributes:\n",
       "    Conventions:  COARDS\n",
       "    title:        4x daily NMC reanalysis (1948)\n",
       "    description:  Data is from NMC initialized reanalysis\\n(4x/day).  These a...\n",
       "    platform:     Model\n",
       "    references:   http://www.esrl.noaa.gov/psd/data/gridded/data.ncep.reanaly..."
      ]
     },
     "execution_count": 128,
     "metadata": {},
     "output_type": "execute_result"
    }
   ],
   "source": [
    "ds"
   ]
  },
  {
   "cell_type": "code",
   "execution_count": 131,
   "metadata": {},
   "outputs": [
    {
     "data": {
      "text/plain": [
       "<xarray.Dataset>\n",
       "Dimensions:  (x: 1, y: 1, z: 1)\n",
       "Dimensions without coordinates: x, y, z\n",
       "Data variables:\n",
       "    foo      (x, y, z) int64 42\n",
       "    bar      (y, z) int64 24"
      ]
     },
     "execution_count": 131,
     "metadata": {},
     "output_type": "execute_result"
    }
   ],
   "source": [
    "xr.Dataset({'foo': (('x', 'y', 'z'), [[[42]]]), 'bar': (('y', 'z'), [[24]])})"
   ]
  },
  {
   "cell_type": "code",
   "execution_count": null,
   "metadata": {},
   "outputs": [],
   "source": []
  }
 ],
 "metadata": {
  "kernelspec": {
   "display_name": "Python 3",
   "language": "python",
   "name": "python3"
  },
  "language_info": {
   "codemirror_mode": {
    "name": "ipython",
    "version": 3
   },
   "file_extension": ".py",
   "mimetype": "text/x-python",
   "name": "python",
   "nbconvert_exporter": "python",
   "pygments_lexer": "ipython3",
   "version": "3.7.3"
  }
 },
 "nbformat": 4,
 "nbformat_minor": 2
}
