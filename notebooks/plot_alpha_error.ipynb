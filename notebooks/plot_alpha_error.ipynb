{
 "cells": [
  {
   "cell_type": "code",
   "execution_count": 61,
   "metadata": {},
   "outputs": [
    {
     "data": {
      "text/plain": [
       "<matplotlib.collections.PathCollection at 0x7f1e2c1b1828>"
      ]
     },
     "execution_count": 61,
     "metadata": {},
     "output_type": "execute_result"
    },
    {
     "data": {
      "image/png": "[encoded data removed]",
      "text/plain": [
       "<Figure size 432x288 with 1 Axes>"
      ]
     },
     "metadata": {
      "needs_background": "light"
     },
     "output_type": "display_data"
    }
   ],
   "source": [
    "from matplotlib import pyplot as plt\n",
    "import matplotlib\n",
    "import numpy as np\n",
    "\n",
    "font = {'family' : 'normal',\n",
    "        'weight' : 'normal',\n",
    "        'size'   : 12}\n",
    "\n",
    "\n",
    "matplotlib.rc('font', **font)\n",
    "\n",
    "matplotlib.pyplot.rcParams['lines.linewidth'] = 1.5\n",
    "matplotlib.pyplot.rcParams['axes.linewidth'] = 1.5\n",
    "\n",
    "x = [0, 0.20, 0.25]\n",
    "y = [1, 10, 30]\n",
    "\n",
    "line1 = lambda x : 45*x + 1  \n",
    "line2 = lambda x : 400*x - 70\n",
    "\n",
    "sampled_points1 = np.linspace(0,0.17,30)\n",
    "sampled_points2 = np.linspace(0.20,0.25,10)\n",
    "\n",
    "mean = 0.02\n",
    "std = 0.01\n",
    "random1 = std * np.random.randn(len(sampled_points1)) + mean\n",
    "sampled_points1 = sampled_points1 + random1\n",
    "random2 = std * np.random.randn(len(sampled_points2)) + mean\n",
    "sampled_points2 = sampled_points2 + random2\n",
    "\n",
    "\n",
    "y1 = line1(sampled_points1)\n",
    "y2 = line2(sampled_points2)\n",
    "sampled_points = np.concatenate((sampled_points1, sampled_points2))\n",
    "y = np.concatenate((y1,y2))\n",
    "mean = 0\n",
    "std = 1\n",
    "y = y + (std*np.random.randn(len(y)) + mean)\n",
    "\n",
    "fig, ax = plt.subplots(1,1, constrained_layout=True)\n",
    "ax.set_xlabel('Ratio of negative eigenvalues')\n",
    "ax.set_ylabel('Train Error (%)')\n",
    "ax.scatter(sampled_points,y)"
   ]
  },
  {
   "cell_type": "code",
   "execution_count": 62,
   "metadata": {},
   "outputs": [],
   "source": [
    "fig.savefig('test.pdf', format='pdf', bbox_inches='tight')"
   ]
  },
  {
   "cell_type": "code",
   "execution_count": 10,
   "metadata": {},
   "outputs": [
    {
     "data": {
      "text/plain": [
       "array([0.        , 0.00641026, 0.01282051, 0.01923077, 0.02564103,\n",
       "       0.03205128, 0.03846154, 0.04487179, 0.05128205, 0.05769231,\n",
       "       0.06410256, 0.07051282, 0.07692308, 0.08333333, 0.08974359,\n",
       "       0.09615385, 0.1025641 , 0.10897436, 0.11538462, 0.12179487,\n",
       "       0.12820513, 0.13461538, 0.14102564, 0.1474359 , 0.15384615,\n",
       "       0.16025641, 0.16666667, 0.17307692, 0.17948718, 0.18589744,\n",
       "       0.19230769, 0.19871795, 0.20512821, 0.21153846, 0.21794872,\n",
       "       0.22435897, 0.23076923, 0.23717949, 0.24358974, 0.25      ])"
      ]
     },
     "execution_count": 10,
     "metadata": {},
     "output_type": "execute_result"
    }
   ],
   "source": []
  },
  {
   "cell_type": "code",
   "execution_count": 13,
   "metadata": {},
   "outputs": [],
   "source": [
    "test = std * np.random.randn(len(sampled_points)) + mean"
   ]
  },
  {
   "cell_type": "code",
   "execution_count": 14,
   "metadata": {},
   "outputs": [
    {
     "data": {
      "text/plain": [
       "[<matplotlib.lines.Line2D at 0x7f1e2f2e22e8>]"
      ]
     },
     "execution_count": 14,
     "metadata": {},
     "output_type": "execute_result"
    }
   ],
   "source": [
    "ax.plot(test)"
   ]
  },
  {
   "cell_type": "code",
   "execution_count": null,
   "metadata": {},
   "outputs": [],
   "source": []
  }
 ],
 "metadata": {
  "kernelspec": {
   "display_name": "Python 3",
   "language": "python",
   "name": "python3"
  },
  "language_info": {
   "codemirror_mode": {
    "name": "ipython",
    "version": 3
   },
   "file_extension": ".py",
   "mimetype": "text/x-python",
   "name": "python",
   "nbconvert_exporter": "python",
   "pygments_lexer": "ipython3",
   "version": "3.7.3"
  }
 },
 "nbformat": 4,
 "nbformat_minor": 2
}
